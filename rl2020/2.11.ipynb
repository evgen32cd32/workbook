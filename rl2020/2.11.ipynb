{
 "cells": [
  {
   "cell_type": "code",
   "execution_count": 1,
   "metadata": {},
   "outputs": [],
   "source": [
    "from numpy.random import default_rng\n",
    "import numpy as np\n",
    "import matplotlib.pyplot as plt\n",
    "import pandas as pd\n",
    "from tqdm import tqdm\n",
    "\n",
    "np.seterr(divide='ignore', invalid='ignore')\n",
    "\n",
    "rng = default_rng()\n",
    "\n",
    "mean = 0.\n",
    "sd = 0.01\n",
    "\n",
    "steps = 200000"
   ]
  },
  {
   "cell_type": "code",
   "execution_count": 2,
   "metadata": {},
   "outputs": [],
   "source": [
    "model_tags = ['ucb', 'ucb_cnst', 'opt', 'grd', 'eps', 'cnst']\n",
    "bounds = {}\n",
    "\n",
    "# UCB\n",
    "bounds['ucb'] = (-4,2)\n",
    "\n",
    "# UCB const\n",
    "bounds['ucb_cnst'] = (-4,2)\n",
    "\n",
    "# greedy optimistic alfa = 0.1\n",
    "bounds['opt'] = (-2,2)\n",
    "\n",
    "# gradient bandit\n",
    "bounds['grd'] = (-5,2)\n",
    "\n",
    "# eps-greedy\n",
    "bounds['eps'] = (-7,-2)\n",
    "\n",
    "# constant eps-greedy\n",
    "bounds['cnst'] = (-7,-2)\n"
   ]
  },
  {
   "cell_type": "code",
   "execution_count": 3,
   "metadata": {},
   "outputs": [],
   "source": [
    "class KABModel:\n",
    "    def __init__(self, type, coef):\n",
    "        self.coef = np.power(2.,coef)\n",
    "        if type == 'opt':\n",
    "            self.q = np.full(10,self.coef)\n",
    "        else:\n",
    "            self.q = np.zeros(10)\n",
    "        self.type = type\n",
    "        self.chosen = None\n",
    "        self.alfa = 0.1\n",
    "        if type in ('ucb', 'ucb_cnst', 'eps'):\n",
    "            self.n = np.zeros(10)\n",
    "        if type in ('ucb', 'ucb_cnst'):\n",
    "            self.t = 0\n",
    "        if type == 'grd':\n",
    "            self.pie = None\n",
    "            self.r_avg = None\n",
    "\n",
    "\n",
    "    \n",
    "    def action(self):\n",
    "        if self.type in ('ucb', 'ucb_cnst'):\n",
    "            self.t += 1\n",
    "            self.chosen = np.argmax(self.q + self.coef * np.sqrt(np.log(self.t)/self.n))\n",
    "        elif self.type == 'opt':\n",
    "            self.chosen = np.argmax(self.q)\n",
    "        elif self.type == 'grd':\n",
    "            self.pie = np.exp(self.q)/np.sum(np.exp(self.q))\n",
    "            self.chosen = rng.choice(10,p=self.pie)\n",
    "        elif self.type in ('eps', 'cnst'):\n",
    "            self.chosen = rng.integers(0,10) if rng.random() < self.coef else np.argmax(self.q)\n",
    "        return self.chosen\n",
    "\n",
    "    \n",
    "    def update(self, value):\n",
    "        if self.type in ('ucb', 'eps'):\n",
    "            self.n[self.chosen] += 1\n",
    "            self.q[self.chosen] += (value - self.q[self.chosen])/self.n[self.chosen]\n",
    "        elif self.type == 'ucb_cnst':\n",
    "            self.n[self.chosen] += 1\n",
    "            self.q[self.chosen] += (value - self.q[self.chosen])*self.alfa\n",
    "        elif self.type in ('opt', 'cnst'):\n",
    "            self.q[self.chosen] += (value - self.q[self.chosen])*self.alfa\n",
    "        elif self.type == 'grd':\n",
    "            if self.r_avg is None:\n",
    "                self.r_avg = value\n",
    "            else:\n",
    "                x = np.full(10,0.)\n",
    "                x[self.chosen] = 1.\n",
    "                self.q += self.coef * (value - self.r_avg) * (x - self.pie)\n",
    "                self.r_avg += (value - self.r_avg)*self.alfa\n",
    "        self.chosen = None\n"
   ]
  },
  {
   "cell_type": "code",
   "execution_count": 4,
   "metadata": {},
   "outputs": [],
   "source": [
    "models = []\n",
    "for tag in model_tags:\n",
    "    for c in range(bounds[tag][0],bounds[tag][1]+1):\n",
    "        models.append(KABModel(tag,c))"
   ]
  },
  {
   "cell_type": "code",
   "execution_count": 5,
   "metadata": {},
   "outputs": [
    {
     "name": "stderr",
     "output_type": "stream",
     "text": [
      "100%|██████████| 200000/200000 [02:10<00:00, 1532.27it/s]\n"
     ]
    }
   ],
   "source": [
    "q_true = [0.]*10\n",
    "res = {md:0. for md in models}\n",
    "k = 0\n",
    "\n",
    "for st in tqdm(range(steps)):\n",
    "    # true\n",
    "    for i in range(10):\n",
    "        q_true[i] += rng.normal(mean,sd)\n",
    "\n",
    "    for md in models:\n",
    "        r = q_true[md.action()]\n",
    "        md.update(r)\n",
    "        if st > steps/2:\n",
    "            k += 1\n",
    "            res[md] += (r - res[md])/k\n",
    "        "
   ]
  },
  {
   "cell_type": "code",
   "execution_count": 6,
   "metadata": {},
   "outputs": [],
   "source": [
    "results = pd.DataFrame()\n",
    "for md in models:\n",
    "    results.loc[md.coef,md.type] = res[md]"
   ]
  },
  {
   "cell_type": "code",
   "execution_count": 10,
   "metadata": {},
   "outputs": [
    {
     "data": {
      "text/plain": [
       "<AxesSubplot:>"
      ]
     },
     "execution_count": 10,
     "metadata": {},
     "output_type": "execute_result"
    },
    {
     "data": {
      "image/png": "[encoded data removed]",
      "text/plain": [
       "<Figure size 432x288 with 1 Axes>"
      ]
     },
     "metadata": {
      "needs_background": "light"
     },
     "output_type": "display_data"
    }
   ],
   "source": [
    "results.plot(logx=True)"
   ]
  }
 ],
 "metadata": {
  "kernelspec": {
   "display_name": "Python 3",
   "language": "python",
   "name": "python3"
  },
  "language_info": {
   "codemirror_mode": {
    "name": "ipython",
    "version": 3
   },
   "file_extension": ".py",
   "mimetype": "text/x-python",
   "name": "python",
   "nbconvert_exporter": "python",
   "pygments_lexer": "ipython3",
   "version": "3.10.5"
  },
  "orig_nbformat": 4
 },
 "nbformat": 4,
 "nbformat_minor": 2
}
