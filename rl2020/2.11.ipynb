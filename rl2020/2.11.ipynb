{
 "cells": [
  {
   "cell_type": "code",
   "execution_count": 1,
   "metadata": {},
   "outputs": [],
   "source": [
    "from numpy.random import default_rng\n",
    "import numpy as np\n",
    "import matplotlib.pyplot as plt\n",
    "import pandas as pd\n",
    "from tqdm import tqdm\n",
    "\n",
    "rng = default_rng()\n",
    "\n",
    "mean = 0.\n",
    "sd = 0.01\n",
    "\n",
    "eps = 0.1\n",
    "steps = 200000"
   ]
  },
  {
   "cell_type": "code",
   "execution_count": 3,
   "metadata": {},
   "outputs": [
    {
     "name": "stderr",
     "output_type": "stream",
     "text": [
      " 26%|██▌       | 51102/200000 [01:56<05:39, 438.29it/s] \n"
     ]
    },
    {
     "ename": "KeyboardInterrupt",
     "evalue": "",
     "output_type": "error",
     "traceback": [
      "\u001b[1;31m---------------------------------------------------------------------------\u001b[0m",
      "\u001b[1;31mKeyboardInterrupt\u001b[0m                         Traceback (most recent call last)",
      "\u001b[1;32mc:\\Git\\workbook\\rl2020\\2.11.ipynb Cell 2\u001b[0m in \u001b[0;36m<cell line: 9>\u001b[1;34m()\u001b[0m\n\u001b[0;32m     <a href='vscode-notebook-cell:/c%3A/Git/workbook/rl2020/2.11.ipynb#W1sZmlsZQ%3D%3D?line=13'>14</a>\u001b[0m \u001b[39m# sample-average\u001b[39;00m\n\u001b[0;32m     <a href='vscode-notebook-cell:/c%3A/Git/workbook/rl2020/2.11.ipynb#W1sZmlsZQ%3D%3D?line=14'>15</a>\u001b[0m i \u001b[39m=\u001b[39m rng\u001b[39m.\u001b[39mintegers(\u001b[39m0\u001b[39m,\u001b[39m10\u001b[39m) \u001b[39mif\u001b[39;00m rng\u001b[39m.\u001b[39mrandom() \u001b[39m<\u001b[39m eps \u001b[39melse\u001b[39;00m np\u001b[39m.\u001b[39margmax(q1)\n\u001b[1;32m---> <a href='vscode-notebook-cell:/c%3A/Git/workbook/rl2020/2.11.ipynb#W1sZmlsZQ%3D%3D?line=15'>16</a>\u001b[0m result\u001b[39m.\u001b[39;49mloc[st,\u001b[39m'\u001b[39;49m\u001b[39mavg\u001b[39;49m\u001b[39m'\u001b[39;49m] \u001b[39m=\u001b[39m q_true[i]\n\u001b[0;32m     <a href='vscode-notebook-cell:/c%3A/Git/workbook/rl2020/2.11.ipynb#W1sZmlsZQ%3D%3D?line=16'>17</a>\u001b[0m n1[i] \u001b[39m+\u001b[39m\u001b[39m=\u001b[39m \u001b[39m1\u001b[39m\n\u001b[0;32m     <a href='vscode-notebook-cell:/c%3A/Git/workbook/rl2020/2.11.ipynb#W1sZmlsZQ%3D%3D?line=17'>18</a>\u001b[0m q1[i] \u001b[39m+\u001b[39m\u001b[39m=\u001b[39m (q_true[i] \u001b[39m-\u001b[39m q1[i]) \u001b[39m/\u001b[39m n1[i]\n",
      "File \u001b[1;32mc:\\Users\\e.khvatov\\AppData\\Local\\Programs\\Python\\Python310\\lib\\site-packages\\pandas\\core\\indexing.py:716\u001b[0m, in \u001b[0;36m_LocationIndexer.__setitem__\u001b[1;34m(self, key, value)\u001b[0m\n\u001b[0;32m    713\u001b[0m \u001b[39mself\u001b[39m\u001b[39m.\u001b[39m_has_valid_setitem_indexer(key)\n\u001b[0;32m    715\u001b[0m iloc \u001b[39m=\u001b[39m \u001b[39mself\u001b[39m \u001b[39mif\u001b[39;00m \u001b[39mself\u001b[39m\u001b[39m.\u001b[39mname \u001b[39m==\u001b[39m \u001b[39m\"\u001b[39m\u001b[39miloc\u001b[39m\u001b[39m\"\u001b[39m \u001b[39melse\u001b[39;00m \u001b[39mself\u001b[39m\u001b[39m.\u001b[39mobj\u001b[39m.\u001b[39miloc\n\u001b[1;32m--> 716\u001b[0m iloc\u001b[39m.\u001b[39;49m_setitem_with_indexer(indexer, value, \u001b[39mself\u001b[39;49m\u001b[39m.\u001b[39;49mname)\n",
      "File \u001b[1;32mc:\\Users\\e.khvatov\\AppData\\Local\\Programs\\Python\\Python310\\lib\\site-packages\\pandas\\core\\indexing.py:1671\u001b[0m, in \u001b[0;36m_iLocIndexer._setitem_with_indexer\u001b[1;34m(self, indexer, value, name)\u001b[0m\n\u001b[0;32m   1668\u001b[0m     \u001b[39mself\u001b[39m\u001b[39m.\u001b[39mobj\u001b[39m.\u001b[39m_maybe_update_cacher(clear\u001b[39m=\u001b[39m\u001b[39mTrue\u001b[39;00m)\n\u001b[0;32m   1669\u001b[0m     \u001b[39mself\u001b[39m\u001b[39m.\u001b[39mobj\u001b[39m.\u001b[39m_is_copy \u001b[39m=\u001b[39m \u001b[39mNone\u001b[39;00m\n\u001b[1;32m-> 1671\u001b[0m     nindexer\u001b[39m.\u001b[39mappend(labels\u001b[39m.\u001b[39;49mget_loc(key))\n\u001b[0;32m   1673\u001b[0m \u001b[39melse\u001b[39;00m:\n\u001b[0;32m   1674\u001b[0m     nindexer\u001b[39m.\u001b[39mappend(idx)\n",
      "File \u001b[1;32mc:\\Users\\e.khvatov\\AppData\\Local\\Programs\\Python\\Python310\\lib\\site-packages\\pandas\\core\\indexes\\base.py:3621\u001b[0m, in \u001b[0;36mIndex.get_loc\u001b[1;34m(self, key, method, tolerance)\u001b[0m\n\u001b[0;32m   3619\u001b[0m casted_key \u001b[39m=\u001b[39m \u001b[39mself\u001b[39m\u001b[39m.\u001b[39m_maybe_cast_indexer(key)\n\u001b[0;32m   3620\u001b[0m \u001b[39mtry\u001b[39;00m:\n\u001b[1;32m-> 3621\u001b[0m     \u001b[39mreturn\u001b[39;00m \u001b[39mself\u001b[39;49m\u001b[39m.\u001b[39;49m_engine\u001b[39m.\u001b[39;49mget_loc(casted_key)\n\u001b[0;32m   3622\u001b[0m \u001b[39mexcept\u001b[39;00m \u001b[39mKeyError\u001b[39;00m \u001b[39mas\u001b[39;00m err:\n\u001b[0;32m   3623\u001b[0m     \u001b[39mraise\u001b[39;00m \u001b[39mKeyError\u001b[39;00m(key) \u001b[39mfrom\u001b[39;00m \u001b[39merr\u001b[39;00m\n",
      "\u001b[1;31mKeyboardInterrupt\u001b[0m: "
     ]
    }
   ],
   "source": [
    "result = pd.DataFrame(columns=['avg','const'])\n",
    "\n",
    "q_true = [0.]*10\n",
    "q1 = [0.]*10\n",
    "n1 = [0.]*10\n",
    "q2 = [0.]*10\n",
    "alfa_const = 0.1\n",
    "\n",
    "for st in tqdm(range(steps)):\n",
    "    # true\n",
    "    for i in range(10):\n",
    "        q_true[i] += rng.normal(mean,sd)\n",
    "\n",
    "    # sample-average\n",
    "    i = rng.integers(0,10) if rng.random() < eps else np.argmax(q1)\n",
    "    result.loc[st,'avg'] = q_true[i]\n",
    "    n1[i] += 1\n",
    "    q1[i] += (q_true[i] - q1[i]) / n1[i]\n",
    "\n",
    "    # const\n",
    "    i = rng.integers(0,10) if rng.random() < eps else np.argmax(q2)\n",
    "    result.loc[st,'const'] = q_true[i]\n",
    "    q2[i] += alfa_const * (q_true[i] - q2[i])"
   ]
  }
 ],
 "metadata": {
  "kernelspec": {
   "display_name": "Python 3",
   "language": "python",
   "name": "python3"
  },
  "language_info": {
   "codemirror_mode": {
    "name": "ipython",
    "version": 3
   },
   "file_extension": ".py",
   "mimetype": "text/x-python",
   "name": "python",
   "nbconvert_exporter": "python",
   "pygments_lexer": "ipython3",
   "version": "3.10.5"
  },
  "orig_nbformat": 4
 },
 "nbformat": 4,
 "nbformat_minor": 2
}
